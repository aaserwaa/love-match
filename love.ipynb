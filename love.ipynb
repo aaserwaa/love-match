{
 "cells": [
  {
   "cell_type": "code",
   "execution_count": 2,
   "metadata": {},
   "outputs": [
    {
     "name": "stdout",
     "output_type": "stream",
     "text": [
      "Your random love compatibility percentage is: 0.75%\n",
      " A passable emulation of love, akin to a fading echo in an empty chamber.\n"
     ]
    }
   ],
   "source": [
    "#Define the User Input\n",
    "first_name = input(\"Please enter your name: \").lower()\n",
    "second_name = input(\"Please enter your crush: \").lower()\n",
    "#Combine the two names\n",
    "combine_names = first_name + second_name\n",
    " \n",
    " #Count the number of letters truelove in the combine_name\n",
    "t  = combine_names.count('t')\n",
    "r  = combine_names.count('r')\n",
    "u  = combine_names.count('u')\n",
    "e = combine_names.count('e')\n",
    " \n",
    "true = t + r + u + e\n",
    " \n",
    "l  = combine_names.count('l')\n",
    "o  = combine_names.count('o')\n",
    "v  = combine_names.count('v')\n",
    "e  = combine_names.count('e')\n",
    " \n",
    "love = l + o + v + e\n",
    " \n",
    " \n",
    " \n",
    "true_love = str(true) + str(love)\n",
    "true_love = int(true_love)\n",
    " \n",
    " \n",
    "import random\n",
    " \n",
    " \n",
    " \n",
    "if true_love <= 30:\n",
    "    random_percentage = random.uniform(0, 25)\n",
    "    message = \"A passable emulation of love, akin to a fading echo in an empty chamber.\"\n",
    "elif true_love <= 60:\n",
    "    random_percentage = random.uniform(26, 51)\n",
    "    message = \"Acceptable, though not quite the romantic masterpiece of a Shakespearean play.\"\n",
    "elif true_love <= 90:\n",
    "    random_percentage = random.uniform(52, 77)\n",
    "    message = \"Your affection is like a distant star, visible yet distant, twinkling with uncertainty.\"\n",
    "else :\n",
    "    random_percentage = random.uniform(78, 100)\n",
    "    message = \"A passable emulation of love, akin to a fading echo in an empty chamber.\"\n",
    " \n",
    " \n",
    "print(f\"Your random love compatibility percentage is: {random_percentage:.2f}%\\n {message}\")"
   ]
  },
  {
   "cell_type": "code",
   "execution_count": null,
   "metadata": {},
   "outputs": [],
   "source": []
  }
 ],
 "metadata": {
  "kernelspec": {
   "display_name": "Python 3",
   "language": "python",
   "name": "python3"
  },
  "language_info": {
   "codemirror_mode": {
    "name": "ipython",
    "version": 3
   },
   "file_extension": ".py",
   "mimetype": "text/x-python",
   "name": "python",
   "nbconvert_exporter": "python",
   "pygments_lexer": "ipython3",
   "version": "3.11.6"
  }
 },
 "nbformat": 4,
 "nbformat_minor": 2
}
